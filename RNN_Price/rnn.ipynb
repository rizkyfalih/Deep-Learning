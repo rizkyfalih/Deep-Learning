{
  "nbformat": 4,
  "nbformat_minor": 0,
  "metadata": {
    "colab": {
      "name": "rnn.ipynb",
      "version": "0.3.2",
      "provenance": [],
      "collapsed_sections": [],
      "toc_visible": true
    },
    "kernelspec": {
      "name": "python3",
      "display_name": "Python 3"
    }
  },
  "cells": [
    {
      "metadata": {
        "id": "rYW7QRCx5uXI",
        "colab_type": "text"
      },
      "cell_type": "markdown",
      "source": [
        "# RNN for Predict Google Stock Price"
      ]
    },
    {
      "metadata": {
        "id": "SvnBOwX7-AX3",
        "colab_type": "text"
      },
      "cell_type": "markdown",
      "source": [
        "## Data Preprocessing"
      ]
    },
    {
      "metadata": {
        "id": "U2Wi2XSf4PI7",
        "colab_type": "text"
      },
      "cell_type": "markdown",
      "source": [
        "### Importing the libraries"
      ]
    },
    {
      "metadata": {
        "id": "LRCr44hG-DyJ",
        "colab_type": "text"
      },
      "cell_type": "markdown",
      "source": [
        ""
      ]
    },
    {
      "metadata": {
        "id": "qWWN0CkB3zmw",
        "colab_type": "code",
        "colab": {}
      },
      "cell_type": "code",
      "source": [
        "import numpy as np\n",
        "import matplotlib.pyplot as plt\n",
        "import pandas as pd"
      ],
      "execution_count": 0,
      "outputs": []
    },
    {
      "metadata": {
        "id": "G6eEmpgG5cTh",
        "colab_type": "text"
      },
      "cell_type": "markdown",
      "source": [
        "### Importing the training set"
      ]
    },
    {
      "metadata": {
        "id": "ud45kC4d5f7K",
        "colab_type": "code",
        "colab": {}
      },
      "cell_type": "code",
      "source": [
        "training_set = pd.read_csv('Google_Stock_Price_Train.csv')\n",
        "training_set = training_set.iloc[:,1:2].values"
      ],
      "execution_count": 0,
      "outputs": []
    },
    {
      "metadata": {
        "id": "7XpjMgY86W6R",
        "colab_type": "text"
      },
      "cell_type": "markdown",
      "source": [
        "### Feature Scaling"
      ]
    },
    {
      "metadata": {
        "id": "B-1XQCyG6jLW",
        "colab_type": "code",
        "colab": {}
      },
      "cell_type": "code",
      "source": [
        "from sklearn.preprocessing import MinMaxScaler\n",
        "sc = MinMaxScaler()\n",
        "training_set = sc.fit_transform(training_set)\n"
      ],
      "execution_count": 0,
      "outputs": []
    },
    {
      "metadata": {
        "id": "swmKHknv7dkP",
        "colab_type": "text"
      },
      "cell_type": "markdown",
      "source": [
        "### Getting the inputs and the outputs"
      ]
    },
    {
      "metadata": {
        "id": "Bli7LhW17hw4",
        "colab_type": "code",
        "colab": {}
      },
      "cell_type": "code",
      "source": [
        "X_train = training_set[0:1257]\n",
        "y_train = training_set[1:1258]\n"
      ],
      "execution_count": 0,
      "outputs": []
    },
    {
      "metadata": {
        "id": "4iRALr078gsY",
        "colab_type": "text"
      },
      "cell_type": "markdown",
      "source": [
        "### Reshaping"
      ]
    },
    {
      "metadata": {
        "id": "IhNVVpxo8jWZ",
        "colab_type": "code",
        "colab": {}
      },
      "cell_type": "code",
      "source": [
        "X_train = np.reshape(X_train, (1257, 1, 1))"
      ],
      "execution_count": 0,
      "outputs": []
    },
    {
      "metadata": {
        "id": "Z4uboDDh-FRY",
        "colab_type": "text"
      },
      "cell_type": "markdown",
      "source": [
        "## Building the RNN"
      ]
    },
    {
      "metadata": {
        "id": "5Of_mTnf-I2Y",
        "colab_type": "text"
      },
      "cell_type": "markdown",
      "source": [
        "### Importing the Keras libraries and packages"
      ]
    },
    {
      "metadata": {
        "id": "QgPa1XhA-NU1",
        "colab_type": "code",
        "colab": {
          "base_uri": "https://localhost:8080/",
          "height": 34
        },
        "outputId": "12a98e9d-089f-4c84-c0b7-1eeafa166c30"
      },
      "cell_type": "code",
      "source": [
        "from keras.models import Sequential\n",
        "from keras.layers import Dense\n",
        "from keras.layers import LSTM"
      ],
      "execution_count": 7,
      "outputs": [
        {
          "output_type": "stream",
          "text": [
            "Using TensorFlow backend.\n"
          ],
          "name": "stderr"
        }
      ]
    },
    {
      "metadata": {
        "id": "mSFaSA4H-aRE",
        "colab_type": "text"
      },
      "cell_type": "markdown",
      "source": [
        "### Initialising the RNN"
      ]
    },
    {
      "metadata": {
        "id": "RL3Cq8dt-foe",
        "colab_type": "code",
        "colab": {}
      },
      "cell_type": "code",
      "source": [
        "regressor = Sequential()"
      ],
      "execution_count": 0,
      "outputs": []
    },
    {
      "metadata": {
        "id": "7A6DUzbe_KG7",
        "colab_type": "text"
      },
      "cell_type": "markdown",
      "source": [
        "### Adding the input layer and the LSTM layer"
      ]
    },
    {
      "metadata": {
        "id": "HAY_GzRB_O6B",
        "colab_type": "code",
        "colab": {}
      },
      "cell_type": "code",
      "source": [
        "regressor.add(LSTM(units = 4, activation = 'sigmoid', input_shape = (None, 1)))"
      ],
      "execution_count": 0,
      "outputs": []
    },
    {
      "metadata": {
        "id": "XIhKdPTX_2zf",
        "colab_type": "text"
      },
      "cell_type": "markdown",
      "source": [
        "### Adding the output layer"
      ]
    },
    {
      "metadata": {
        "id": "PcYDjjiB_-hI",
        "colab_type": "code",
        "colab": {}
      },
      "cell_type": "code",
      "source": [
        "regressor.add(Dense(units = 1))"
      ],
      "execution_count": 0,
      "outputs": []
    },
    {
      "metadata": {
        "id": "CUdNnn-iAYax",
        "colab_type": "text"
      },
      "cell_type": "markdown",
      "source": [
        "### Compiling the RNN"
      ]
    },
    {
      "metadata": {
        "id": "Ge8hV5rPAZAj",
        "colab_type": "code",
        "colab": {}
      },
      "cell_type": "code",
      "source": [
        "regressor.compile(optimizer = 'adam', loss = 'mean_squared_error')"
      ],
      "execution_count": 0,
      "outputs": []
    },
    {
      "metadata": {
        "id": "_uzpSgEhAXPf",
        "colab_type": "text"
      },
      "cell_type": "markdown",
      "source": [
        "### Fitting the RNN to the Training set"
      ]
    },
    {
      "metadata": {
        "id": "PNAm5Z6UBPEy",
        "colab_type": "code",
        "colab": {
          "base_uri": "https://localhost:8080/",
          "height": 6834
        },
        "outputId": "599da2e3-e445-435e-8293-316bb25d2b09"
      },
      "cell_type": "code",
      "source": [
        "regressor.fit(X_train, y_train, batch_size = 32, epochs = 200)"
      ],
      "execution_count": 12,
      "outputs": [
        {
          "output_type": "stream",
          "text": [
            "Epoch 1/200\n",
            "1257/1257 [==============================] - 1s 431us/step - loss: 0.8551\n",
            "Epoch 2/200\n",
            "1257/1257 [==============================] - 0s 70us/step - loss: 0.6965\n",
            "Epoch 3/200\n",
            "1257/1257 [==============================] - 0s 68us/step - loss: 0.5649\n",
            "Epoch 4/200\n",
            "1257/1257 [==============================] - 0s 71us/step - loss: 0.4557\n",
            "Epoch 5/200\n",
            "1257/1257 [==============================] - 0s 72us/step - loss: 0.3661\n",
            "Epoch 6/200\n",
            "1257/1257 [==============================] - 0s 71us/step - loss: 0.2930\n",
            "Epoch 7/200\n",
            "1257/1257 [==============================] - 0s 72us/step - loss: 0.2338\n",
            "Epoch 8/200\n",
            "1257/1257 [==============================] - 0s 70us/step - loss: 0.1867\n",
            "Epoch 9/200\n",
            "1257/1257 [==============================] - 0s 67us/step - loss: 0.1499\n",
            "Epoch 10/200\n",
            "1257/1257 [==============================] - 0s 69us/step - loss: 0.1220\n",
            "Epoch 11/200\n",
            "1257/1257 [==============================] - 0s 70us/step - loss: 0.1011\n",
            "Epoch 12/200\n",
            "1257/1257 [==============================] - 0s 76us/step - loss: 0.0861\n",
            "Epoch 13/200\n",
            "1257/1257 [==============================] - 0s 70us/step - loss: 0.0755\n",
            "Epoch 14/200\n",
            "1257/1257 [==============================] - 0s 73us/step - loss: 0.0684\n",
            "Epoch 15/200\n",
            "1257/1257 [==============================] - 0s 77us/step - loss: 0.0636\n",
            "Epoch 16/200\n",
            "1257/1257 [==============================] - 0s 73us/step - loss: 0.0604\n",
            "Epoch 17/200\n",
            "1257/1257 [==============================] - 0s 71us/step - loss: 0.0582\n",
            "Epoch 18/200\n",
            "1257/1257 [==============================] - 0s 70us/step - loss: 0.0567\n",
            "Epoch 19/200\n",
            "1257/1257 [==============================] - 0s 71us/step - loss: 0.0556\n",
            "Epoch 20/200\n",
            "1257/1257 [==============================] - 0s 70us/step - loss: 0.0547\n",
            "Epoch 21/200\n",
            "1257/1257 [==============================] - 0s 71us/step - loss: 0.0539\n",
            "Epoch 22/200\n",
            "1257/1257 [==============================] - 0s 66us/step - loss: 0.0531\n",
            "Epoch 23/200\n",
            "1257/1257 [==============================] - 0s 68us/step - loss: 0.0524\n",
            "Epoch 24/200\n",
            "1257/1257 [==============================] - 0s 67us/step - loss: 0.0516\n",
            "Epoch 25/200\n",
            "1257/1257 [==============================] - 0s 70us/step - loss: 0.0508\n",
            "Epoch 26/200\n",
            "1257/1257 [==============================] - 0s 72us/step - loss: 0.0500\n",
            "Epoch 27/200\n",
            "1257/1257 [==============================] - 0s 70us/step - loss: 0.0492\n",
            "Epoch 28/200\n",
            "1257/1257 [==============================] - 0s 70us/step - loss: 0.0484\n",
            "Epoch 29/200\n",
            "1257/1257 [==============================] - 0s 70us/step - loss: 0.0475\n",
            "Epoch 30/200\n",
            "1257/1257 [==============================] - 0s 69us/step - loss: 0.0466\n",
            "Epoch 31/200\n",
            "1257/1257 [==============================] - 0s 67us/step - loss: 0.0457\n",
            "Epoch 32/200\n",
            "1257/1257 [==============================] - 0s 70us/step - loss: 0.0448\n",
            "Epoch 33/200\n",
            "1257/1257 [==============================] - 0s 67us/step - loss: 0.0438\n",
            "Epoch 34/200\n",
            "1257/1257 [==============================] - 0s 71us/step - loss: 0.0428\n",
            "Epoch 35/200\n",
            "1257/1257 [==============================] - 0s 67us/step - loss: 0.0418\n",
            "Epoch 36/200\n",
            "1257/1257 [==============================] - 0s 68us/step - loss: 0.0408\n",
            "Epoch 37/200\n",
            "1257/1257 [==============================] - 0s 66us/step - loss: 0.0398\n",
            "Epoch 38/200\n",
            "1257/1257 [==============================] - 0s 71us/step - loss: 0.0387\n",
            "Epoch 39/200\n",
            "1257/1257 [==============================] - 0s 69us/step - loss: 0.0376\n",
            "Epoch 40/200\n",
            "1257/1257 [==============================] - 0s 68us/step - loss: 0.0366\n",
            "Epoch 41/200\n",
            "1257/1257 [==============================] - 0s 72us/step - loss: 0.0355\n",
            "Epoch 42/200\n",
            "1257/1257 [==============================] - 0s 74us/step - loss: 0.0343\n",
            "Epoch 43/200\n",
            "1257/1257 [==============================] - 0s 65us/step - loss: 0.0332\n",
            "Epoch 44/200\n",
            "1257/1257 [==============================] - 0s 66us/step - loss: 0.0321\n",
            "Epoch 45/200\n",
            "1257/1257 [==============================] - 0s 70us/step - loss: 0.0310\n",
            "Epoch 46/200\n",
            "1257/1257 [==============================] - 0s 71us/step - loss: 0.0298\n",
            "Epoch 47/200\n",
            "1257/1257 [==============================] - 0s 70us/step - loss: 0.0287\n",
            "Epoch 48/200\n",
            "1257/1257 [==============================] - 0s 71us/step - loss: 0.0276\n",
            "Epoch 49/200\n",
            "1257/1257 [==============================] - 0s 70us/step - loss: 0.0264\n",
            "Epoch 50/200\n",
            "1257/1257 [==============================] - 0s 63us/step - loss: 0.0253\n",
            "Epoch 51/200\n",
            "1257/1257 [==============================] - 0s 66us/step - loss: 0.0242\n",
            "Epoch 52/200\n",
            "1257/1257 [==============================] - 0s 70us/step - loss: 0.0231\n",
            "Epoch 53/200\n",
            "1257/1257 [==============================] - 0s 67us/step - loss: 0.0220\n",
            "Epoch 54/200\n",
            "1257/1257 [==============================] - 0s 68us/step - loss: 0.0209\n",
            "Epoch 55/200\n",
            "1257/1257 [==============================] - 0s 66us/step - loss: 0.0199\n",
            "Epoch 56/200\n",
            "1257/1257 [==============================] - 0s 69us/step - loss: 0.0188\n",
            "Epoch 57/200\n",
            "1257/1257 [==============================] - 0s 65us/step - loss: 0.0178\n",
            "Epoch 58/200\n",
            "1257/1257 [==============================] - 0s 66us/step - loss: 0.0167\n",
            "Epoch 59/200\n",
            "1257/1257 [==============================] - 0s 65us/step - loss: 0.0157\n",
            "Epoch 60/200\n",
            "1257/1257 [==============================] - 0s 75us/step - loss: 0.0147\n",
            "Epoch 61/200\n",
            "1257/1257 [==============================] - 0s 65us/step - loss: 0.0138\n",
            "Epoch 62/200\n",
            "1257/1257 [==============================] - 0s 69us/step - loss: 0.0129\n",
            "Epoch 63/200\n",
            "1257/1257 [==============================] - 0s 66us/step - loss: 0.0120\n",
            "Epoch 64/200\n",
            "1257/1257 [==============================] - 0s 68us/step - loss: 0.0111\n",
            "Epoch 65/200\n",
            "1257/1257 [==============================] - 0s 70us/step - loss: 0.0103\n",
            "Epoch 66/200\n",
            "1257/1257 [==============================] - 0s 71us/step - loss: 0.0095\n",
            "Epoch 67/200\n",
            "1257/1257 [==============================] - 0s 69us/step - loss: 0.0087\n",
            "Epoch 68/200\n",
            "1257/1257 [==============================] - 0s 69us/step - loss: 0.0080\n",
            "Epoch 69/200\n",
            "1257/1257 [==============================] - 0s 70us/step - loss: 0.0073\n",
            "Epoch 70/200\n",
            "1257/1257 [==============================] - 0s 66us/step - loss: 0.0067\n",
            "Epoch 71/200\n",
            "1257/1257 [==============================] - 0s 73us/step - loss: 0.0061\n",
            "Epoch 72/200\n",
            "1257/1257 [==============================] - 0s 68us/step - loss: 0.0056\n",
            "Epoch 73/200\n",
            "1257/1257 [==============================] - 0s 66us/step - loss: 0.0050\n",
            "Epoch 74/200\n",
            "1257/1257 [==============================] - 0s 67us/step - loss: 0.0045\n",
            "Epoch 75/200\n",
            "1257/1257 [==============================] - 0s 69us/step - loss: 0.0041\n",
            "Epoch 76/200\n",
            "1257/1257 [==============================] - 0s 68us/step - loss: 0.0037\n",
            "Epoch 77/200\n",
            "1257/1257 [==============================] - 0s 68us/step - loss: 0.0033\n",
            "Epoch 78/200\n",
            "1257/1257 [==============================] - 0s 67us/step - loss: 0.0030\n",
            "Epoch 79/200\n",
            "1257/1257 [==============================] - 0s 66us/step - loss: 0.0026\n",
            "Epoch 80/200\n",
            "1257/1257 [==============================] - 0s 68us/step - loss: 0.0024\n",
            "Epoch 81/200\n",
            "1257/1257 [==============================] - 0s 78us/step - loss: 0.0021\n",
            "Epoch 82/200\n",
            "1257/1257 [==============================] - 0s 70us/step - loss: 0.0019\n",
            "Epoch 83/200\n",
            "1257/1257 [==============================] - 0s 69us/step - loss: 0.0017\n",
            "Epoch 84/200\n",
            "1257/1257 [==============================] - 0s 68us/step - loss: 0.0015\n",
            "Epoch 85/200\n",
            "1257/1257 [==============================] - 0s 68us/step - loss: 0.0013\n",
            "Epoch 86/200\n",
            "1257/1257 [==============================] - 0s 69us/step - loss: 0.0011\n",
            "Epoch 87/200\n",
            "1257/1257 [==============================] - 0s 66us/step - loss: 0.0010\n",
            "Epoch 88/200\n",
            "1257/1257 [==============================] - 0s 67us/step - loss: 9.0687e-04\n",
            "Epoch 89/200\n",
            "1257/1257 [==============================] - 0s 68us/step - loss: 8.0746e-04\n",
            "Epoch 90/200\n",
            "1257/1257 [==============================] - 0s 67us/step - loss: 7.2214e-04\n",
            "Epoch 91/200\n",
            "1257/1257 [==============================] - 0s 71us/step - loss: 6.4989e-04\n",
            "Epoch 92/200\n",
            "1257/1257 [==============================] - 0s 68us/step - loss: 5.8775e-04\n",
            "Epoch 93/200\n",
            "1257/1257 [==============================] - 0s 71us/step - loss: 5.3559e-04\n",
            "Epoch 94/200\n",
            "1257/1257 [==============================] - 0s 69us/step - loss: 4.9196e-04\n",
            "Epoch 95/200\n",
            "1257/1257 [==============================] - 0s 70us/step - loss: 4.5343e-04\n",
            "Epoch 96/200\n",
            "1257/1257 [==============================] - 0s 68us/step - loss: 4.2288e-04\n",
            "Epoch 97/200\n",
            "1257/1257 [==============================] - 0s 67us/step - loss: 3.9433e-04\n",
            "Epoch 98/200\n",
            "1257/1257 [==============================] - 0s 66us/step - loss: 3.7281e-04\n",
            "Epoch 99/200\n",
            "1257/1257 [==============================] - 0s 67us/step - loss: 3.5452e-04\n",
            "Epoch 100/200\n",
            "1257/1257 [==============================] - 0s 68us/step - loss: 3.3968e-04\n",
            "Epoch 101/200\n",
            "1257/1257 [==============================] - 0s 75us/step - loss: 3.2714e-04\n",
            "Epoch 102/200\n",
            "1257/1257 [==============================] - 0s 68us/step - loss: 3.1716e-04\n",
            "Epoch 103/200\n",
            "1257/1257 [==============================] - 0s 65us/step - loss: 3.0899e-04\n",
            "Epoch 104/200\n",
            "1257/1257 [==============================] - 0s 67us/step - loss: 3.0250e-04\n",
            "Epoch 105/200\n",
            "1257/1257 [==============================] - 0s 65us/step - loss: 2.9716e-04\n",
            "Epoch 106/200\n",
            "1257/1257 [==============================] - 0s 67us/step - loss: 2.9310e-04\n",
            "Epoch 107/200\n",
            "1257/1257 [==============================] - 0s 68us/step - loss: 2.8942e-04\n",
            "Epoch 108/200\n",
            "1257/1257 [==============================] - 0s 70us/step - loss: 2.8723e-04\n",
            "Epoch 109/200\n",
            "1257/1257 [==============================] - 0s 69us/step - loss: 2.8434e-04\n",
            "Epoch 110/200\n",
            "1257/1257 [==============================] - 0s 69us/step - loss: 2.8230e-04\n",
            "Epoch 111/200\n",
            "1257/1257 [==============================] - 0s 69us/step - loss: 2.8113e-04\n",
            "Epoch 112/200\n",
            "1257/1257 [==============================] - 0s 70us/step - loss: 2.7981e-04\n",
            "Epoch 113/200\n",
            "1257/1257 [==============================] - 0s 72us/step - loss: 2.7864e-04\n",
            "Epoch 114/200\n",
            "1257/1257 [==============================] - 0s 71us/step - loss: 2.7841e-04\n",
            "Epoch 115/200\n",
            "1257/1257 [==============================] - 0s 77us/step - loss: 2.7655e-04\n",
            "Epoch 116/200\n",
            "1257/1257 [==============================] - 0s 74us/step - loss: 2.7658e-04\n",
            "Epoch 117/200\n",
            "1257/1257 [==============================] - 0s 75us/step - loss: 2.7499e-04\n",
            "Epoch 118/200\n",
            "1257/1257 [==============================] - 0s 78us/step - loss: 2.7424e-04\n",
            "Epoch 119/200\n",
            "1257/1257 [==============================] - 0s 81us/step - loss: 2.7396e-04\n",
            "Epoch 120/200\n",
            "1257/1257 [==============================] - 0s 74us/step - loss: 2.7342e-04\n",
            "Epoch 121/200\n",
            "1257/1257 [==============================] - 0s 73us/step - loss: 2.7345e-04\n",
            "Epoch 122/200\n",
            "1257/1257 [==============================] - 0s 77us/step - loss: 2.7284e-04\n",
            "Epoch 123/200\n",
            "1257/1257 [==============================] - 0s 84us/step - loss: 2.7251e-04\n",
            "Epoch 124/200\n",
            "1257/1257 [==============================] - 0s 82us/step - loss: 2.7094e-04\n",
            "Epoch 125/200\n",
            "1257/1257 [==============================] - 0s 71us/step - loss: 2.7040e-04\n",
            "Epoch 126/200\n",
            "1257/1257 [==============================] - 0s 73us/step - loss: 2.7048e-04\n",
            "Epoch 127/200\n",
            "1257/1257 [==============================] - 0s 75us/step - loss: 2.6968e-04\n",
            "Epoch 128/200\n",
            "1257/1257 [==============================] - 0s 72us/step - loss: 2.6869e-04\n",
            "Epoch 129/200\n",
            "1257/1257 [==============================] - 0s 75us/step - loss: 2.6832e-04\n",
            "Epoch 130/200\n",
            "1257/1257 [==============================] - 0s 75us/step - loss: 2.6756e-04\n",
            "Epoch 131/200\n",
            "1257/1257 [==============================] - 0s 75us/step - loss: 2.6729e-04\n",
            "Epoch 132/200\n",
            "1257/1257 [==============================] - 0s 71us/step - loss: 2.6680e-04\n",
            "Epoch 133/200\n",
            "1257/1257 [==============================] - 0s 75us/step - loss: 2.6706e-04\n",
            "Epoch 134/200\n",
            "1257/1257 [==============================] - 0s 75us/step - loss: 2.6593e-04\n",
            "Epoch 135/200\n",
            "1257/1257 [==============================] - 0s 77us/step - loss: 2.6540e-04\n",
            "Epoch 136/200\n",
            "1257/1257 [==============================] - 0s 74us/step - loss: 2.6692e-04\n",
            "Epoch 137/200\n",
            "1257/1257 [==============================] - 0s 73us/step - loss: 2.6529e-04\n",
            "Epoch 138/200\n",
            "1257/1257 [==============================] - 0s 76us/step - loss: 2.6410e-04\n",
            "Epoch 139/200\n",
            "1257/1257 [==============================] - 0s 81us/step - loss: 2.6401e-04\n",
            "Epoch 140/200\n",
            "1257/1257 [==============================] - 0s 84us/step - loss: 2.6355e-04\n",
            "Epoch 141/200\n",
            "1257/1257 [==============================] - 0s 78us/step - loss: 2.6305e-04\n",
            "Epoch 142/200\n",
            "1257/1257 [==============================] - 0s 73us/step - loss: 2.6302e-04\n",
            "Epoch 143/200\n",
            "1257/1257 [==============================] - 0s 72us/step - loss: 2.6274e-04\n",
            "Epoch 144/200\n",
            "1257/1257 [==============================] - 0s 76us/step - loss: 2.6254e-04\n",
            "Epoch 145/200\n",
            "1257/1257 [==============================] - 0s 76us/step - loss: 2.6419e-04\n",
            "Epoch 146/200\n",
            "1257/1257 [==============================] - 0s 75us/step - loss: 2.6365e-04\n",
            "Epoch 147/200\n",
            "1257/1257 [==============================] - 0s 72us/step - loss: 2.6149e-04\n",
            "Epoch 148/200\n",
            "1257/1257 [==============================] - 0s 73us/step - loss: 2.6298e-04\n",
            "Epoch 149/200\n",
            "1257/1257 [==============================] - 0s 76us/step - loss: 2.6128e-04\n",
            "Epoch 150/200\n",
            "1257/1257 [==============================] - 0s 75us/step - loss: 2.6106e-04\n",
            "Epoch 151/200\n",
            "1257/1257 [==============================] - 0s 78us/step - loss: 2.6082e-04\n",
            "Epoch 152/200\n",
            "1257/1257 [==============================] - 0s 77us/step - loss: 2.6132e-04\n",
            "Epoch 153/200\n",
            "1257/1257 [==============================] - 0s 78us/step - loss: 2.6002e-04\n",
            "Epoch 154/200\n",
            "1257/1257 [==============================] - 0s 72us/step - loss: 2.6046e-04\n",
            "Epoch 155/200\n",
            "1257/1257 [==============================] - 0s 74us/step - loss: 2.6049e-04\n",
            "Epoch 156/200\n",
            "1257/1257 [==============================] - 0s 76us/step - loss: 2.6038e-04\n",
            "Epoch 157/200\n",
            "1257/1257 [==============================] - 0s 75us/step - loss: 2.5980e-04\n",
            "Epoch 158/200\n",
            "1257/1257 [==============================] - 0s 93us/step - loss: 2.5953e-04\n",
            "Epoch 159/200\n",
            "1257/1257 [==============================] - 0s 75us/step - loss: 2.5917e-04\n",
            "Epoch 160/200\n",
            "1257/1257 [==============================] - 0s 76us/step - loss: 2.5942e-04\n",
            "Epoch 161/200\n",
            "1257/1257 [==============================] - 0s 78us/step - loss: 2.6057e-04\n",
            "Epoch 162/200\n",
            "1257/1257 [==============================] - 0s 77us/step - loss: 2.5918e-04\n",
            "Epoch 163/200\n",
            "1257/1257 [==============================] - 0s 78us/step - loss: 2.5882e-04\n",
            "Epoch 164/200\n",
            "1257/1257 [==============================] - 0s 79us/step - loss: 2.5897e-04\n",
            "Epoch 165/200\n",
            "1257/1257 [==============================] - 0s 77us/step - loss: 2.5957e-04\n",
            "Epoch 166/200\n",
            "1257/1257 [==============================] - 0s 69us/step - loss: 2.5900e-04\n",
            "Epoch 167/200\n",
            "1257/1257 [==============================] - 0s 74us/step - loss: 2.6042e-04\n",
            "Epoch 168/200\n",
            "1257/1257 [==============================] - 0s 74us/step - loss: 2.5909e-04\n",
            "Epoch 169/200\n",
            "1257/1257 [==============================] - 0s 83us/step - loss: 2.5777e-04\n",
            "Epoch 170/200\n",
            "1257/1257 [==============================] - 0s 80us/step - loss: 2.5821e-04\n",
            "Epoch 171/200\n",
            "1257/1257 [==============================] - 0s 76us/step - loss: 2.5744e-04\n",
            "Epoch 172/200\n",
            "1257/1257 [==============================] - 0s 83us/step - loss: 2.5823e-04\n",
            "Epoch 173/200\n",
            "1257/1257 [==============================] - 0s 82us/step - loss: 2.5877e-04\n",
            "Epoch 174/200\n",
            "1257/1257 [==============================] - 0s 80us/step - loss: 2.6051e-04\n",
            "Epoch 175/200\n",
            "1257/1257 [==============================] - 0s 77us/step - loss: 2.5750e-04\n",
            "Epoch 176/200\n",
            "1257/1257 [==============================] - 0s 79us/step - loss: 2.5875e-04\n",
            "Epoch 177/200\n",
            "1257/1257 [==============================] - 0s 78us/step - loss: 2.5736e-04\n",
            "Epoch 178/200\n",
            "1257/1257 [==============================] - 0s 78us/step - loss: 2.5846e-04\n",
            "Epoch 179/200\n",
            "1257/1257 [==============================] - 0s 79us/step - loss: 2.5917e-04\n",
            "Epoch 180/200\n",
            "1257/1257 [==============================] - 0s 76us/step - loss: 2.5774e-04\n",
            "Epoch 181/200\n",
            "1257/1257 [==============================] - 0s 78us/step - loss: 2.5763e-04\n",
            "Epoch 182/200\n",
            "1257/1257 [==============================] - 0s 79us/step - loss: 2.5705e-04\n",
            "Epoch 183/200\n",
            "1257/1257 [==============================] - 0s 72us/step - loss: 2.5779e-04\n",
            "Epoch 184/200\n",
            "1257/1257 [==============================] - 0s 76us/step - loss: 2.5785e-04\n",
            "Epoch 185/200\n",
            "1257/1257 [==============================] - 0s 76us/step - loss: 2.5686e-04\n",
            "Epoch 186/200\n",
            "1257/1257 [==============================] - 0s 72us/step - loss: 2.5837e-04\n",
            "Epoch 187/200\n",
            "1257/1257 [==============================] - 0s 74us/step - loss: 2.5871e-04\n",
            "Epoch 188/200\n",
            "1257/1257 [==============================] - 0s 74us/step - loss: 2.5726e-04\n",
            "Epoch 189/200\n",
            "1257/1257 [==============================] - 0s 75us/step - loss: 2.5943e-04\n",
            "Epoch 190/200\n",
            "1257/1257 [==============================] - 0s 76us/step - loss: 2.5754e-04\n",
            "Epoch 191/200\n",
            "1257/1257 [==============================] - 0s 70us/step - loss: 2.5759e-04\n",
            "Epoch 192/200\n",
            "1257/1257 [==============================] - 0s 70us/step - loss: 2.5622e-04\n",
            "Epoch 193/200\n",
            "1257/1257 [==============================] - 0s 74us/step - loss: 2.5894e-04\n",
            "Epoch 194/200\n",
            "1257/1257 [==============================] - 0s 71us/step - loss: 2.5923e-04\n",
            "Epoch 195/200\n",
            "1257/1257 [==============================] - 0s 73us/step - loss: 2.5976e-04\n",
            "Epoch 196/200\n",
            "1257/1257 [==============================] - 0s 73us/step - loss: 2.5652e-04\n",
            "Epoch 197/200\n",
            "1257/1257 [==============================] - 0s 71us/step - loss: 2.5881e-04\n",
            "Epoch 198/200\n",
            "1257/1257 [==============================] - 0s 73us/step - loss: 2.5901e-04\n",
            "Epoch 199/200\n",
            "1257/1257 [==============================] - 0s 70us/step - loss: 2.5847e-04\n",
            "Epoch 200/200\n",
            "1257/1257 [==============================] - 0s 73us/step - loss: 2.5714e-04\n"
          ],
          "name": "stdout"
        },
        {
          "output_type": "execute_result",
          "data": {
            "text/plain": [
              "<keras.callbacks.History at 0x7effdbd0afd0>"
            ]
          },
          "metadata": {
            "tags": []
          },
          "execution_count": 12
        }
      ]
    },
    {
      "metadata": {
        "id": "GdRCkDvrBu0R",
        "colab_type": "text"
      },
      "cell_type": "markdown",
      "source": [
        "## Making the predictions and visualising the results"
      ]
    },
    {
      "metadata": {
        "id": "VCBQbRq0E7e1",
        "colab_type": "text"
      },
      "cell_type": "markdown",
      "source": [
        "### Getting the real stock price of 2017"
      ]
    },
    {
      "metadata": {
        "id": "WZlAHmfoEkcu",
        "colab_type": "code",
        "colab": {}
      },
      "cell_type": "code",
      "source": [
        "test_set = pd.read_csv('Google_Stock_Price_Test.csv')\n",
        "real_stock_price = test_set.iloc[:,1:2].values"
      ],
      "execution_count": 0,
      "outputs": []
    },
    {
      "metadata": {
        "id": "mhkVolqYFisE",
        "colab_type": "text"
      },
      "cell_type": "markdown",
      "source": [
        "### Getting the predicted stock price of 2017"
      ]
    },
    {
      "metadata": {
        "id": "Xq8fWj5dOet0",
        "colab_type": "code",
        "colab": {}
      },
      "cell_type": "code",
      "source": [
        "inputs = real_stock_price\n",
        "inputs = sc.transform(inputs)\n",
        "inputs = np.reshape(inputs, (20, 1, 1))\n",
        "predicted_stock_price = regressor.predict(inputs)\n",
        "predicted_stock_price = sc.inverse_transform(predicted_stock_price)"
      ],
      "execution_count": 0,
      "outputs": []
    },
    {
      "metadata": {
        "id": "d0xitRRpP-FL",
        "colab_type": "text"
      },
      "cell_type": "markdown",
      "source": [
        "### Visualising the results"
      ]
    },
    {
      "metadata": {
        "id": "zIjZPfhOQBKK",
        "colab_type": "code",
        "colab": {
          "base_uri": "https://localhost:8080/",
          "height": 376
        },
        "outputId": "8298cb13-e792-4667-e3ea-55c4fefdf4a4"
      },
      "cell_type": "code",
      "source": [
        "plt.plot(real_stock_price, color = 'red', label = 'Real Google Stock Price')\n",
        "plt.plot(predicted_stock_price, color = 'blue', label = 'Predicted Google Stock Price')\n",
        "plt.title('Google Stock Price Prediction')\n",
        "plt.xlabel('Time')\n",
        "plt.ylabel('Google Stock Price')\n",
        "plt.legend()\n",
        "plt.show()"
      ],
      "execution_count": 17,
      "outputs": [
        {
          "output_type": "display_data",
          "data": {
            "image/png": "[encoded data removed]",
            "text/plain": [
              "<matplotlib.figure.Figure at 0x7effd9456278>"
            ]
          },
          "metadata": {
            "tags": []
          }
        }
      ]
    }
  ]
}